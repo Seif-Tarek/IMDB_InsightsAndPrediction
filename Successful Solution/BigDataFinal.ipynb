{
  "nbformat": 4,
  "nbformat_minor": 0,
  "metadata": {
    "colab": {
      "name": "BigDataMshFinal.ipynb",
      "provenance": [],
      "collapsed_sections": []
    },
    "kernelspec": {
      "name": "python3",
      "display_name": "Python 3"
    }
  },
  "cells": [
    {
      "cell_type": "code",
      "metadata": {
        "id": "dRaR62t89DlZ",
        "colab_type": "code",
        "colab": {}
      },
      "source": [
        "import numpy as np\n",
        "import pandas as pd\n",
        "import ast\n",
        "from collections import Counter\n",
        "import os\n",
        "import json\n",
        "from pandas.io.json import json_normalize\n",
        "import unicodedata\n",
        "import re\n",
        "from matplotlib import pyplot as plt\n"
      ],
      "execution_count": 0,
      "outputs": []
    },
    {
      "cell_type": "code",
      "metadata": {
        "id": "J_A7DSrj9ZYO",
        "colab_type": "code",
        "colab": {}
      },
      "source": [
        "def addDateFeatures(data):\n",
        "    \"\"\" Adds extra date features like: day, month, quarter and year \"\"\"\n",
        "    data['release_year'] = pd.to_datetime(data['release_date']).dt.year\n",
        "    data['release_quarter'] = pd.to_datetime(data['release_date']).dt.quarter\n",
        "    data['release_month'] = pd.to_datetime(data['release_date']).dt.month\n",
        "    data['release_day'] = pd.to_datetime(data['release_date']).dt.day\n",
        "\n",
        "    data['release_year'].loc[data['release_year'] > 2019] -= 100 # Fixing release years.\n",
        "\n",
        "    # Filling the columns NaN values (only one NaN value exist in test data) with mode of the data\n",
        "    data['release_year'].fillna(data['release_year'].mode()[0],inplace = True)\n",
        "    data['release_quarter'].fillna(data['release_quarter'].mode()[0],inplace = True)\n",
        "    data['release_month'].fillna(data['release_month'].mode()[0],inplace = True)\n",
        "    data['release_day'].fillna(data['release_day'].mode()[0],inplace = True)\n",
        "\n",
        "    data['release_year'] = data['release_year'].astype(int)\n",
        "    data['release_quarter'] = data['release_quarter'].astype(int)\n",
        "    data['release_month'] = data['release_month'].astype(int)\n",
        "    data['release_day']= data['release_day'].astype(int)\n",
        "\n",
        "    # Reshape the release date column to from this format: 'month-day-year' to this format: 'year-month-day'\n",
        "    data['release_date'] = data['release_month'].astype(str) + '/' + data['release_day'].astype(str) + '/' + data['release_year'].astype(str)\n",
        "    data['release_date'] = pd.to_datetime(data['release_date'], format=\"%m/%d/%Y\")\n",
        "    data['release_day_of_week'] = data['release_date'].dt.dayofweek # The day of the week with Monday = 0, Sunday = 6\n",
        "    return data\n",
        "\n",
        "def addExtraFeatures(data):\n",
        "    \"\"\" Adds extra features \"\"\"\n",
        "    pass\n",
        "\n",
        "def stringToJSON(data):\n",
        "    \"\"\" change strings to JSON format for a pandas coloumn \"\"\"\n",
        "    data.fillna(value = '[{}]',inplace = True) # JSON empty string format\n",
        "    data.loc[data == '[]'] = '[{}]'\n",
        "    return data.apply(lambda entry: re.compile(r'\\\\x([0-9a-fA-F]{2})').sub('',entry.replace(\"None\",'\"ddd\"'))).apply(ast.literal_eval)\n",
        "\n",
        "def addGenreFeatures(data,data2):\n",
        "    \"\"\" Adds extra features \"\"\"\n",
        "    #data['genre'] = stringToJSON(data['genres'])\n",
        "    #train_genres = pd.DataFrame(\n",
        "    #{\n",
        "    #    'id' : data['id'].values.repeat(data['genres'].str.len(), axis = 0),\n",
        "    #    'genre' : np.concatenate(data['genres'].tolist())\n",
        "    #})\n",
        "\n",
        "    #train_genres['genre'] = train_genres['genre'].map(lambda genre: genre.get('name'))\n",
        "    #train_genres = train_genres.set_index('id').genre.str.get_dummies().sum(level = 0)\n",
        "    #data = pd.merge(data, train_genres, on = 'id', how = 'outer')\n",
        "\n",
        "    '''Adds the num_genres and ont hot encoding of genres'''\n",
        "    list_of_genres = list(data['genres'].apply(lambda x: [i['name'] for i in x] if x != {} else []).values)\n",
        "\n",
        "    genres_unique = set(x for l in list_of_genres for x in l)\n",
        "    data['num_genres'] = data['genres'].apply(lambda x: len(x) if x != {} else 0)\n",
        "    data['all_genres'] = data['genres'].apply(lambda x: ' '.join(sorted([i['name'] for i in x])) if x != {} else '')\n",
        "    \n",
        "    for genre in genres_unique:\n",
        "        data[genre] = data['all_genres'].apply(lambda x: 1 if genre in x else 0)\n",
        "      \n",
        "    \n",
        "    data2['num_genres'] = data2['genres'].apply(lambda x: len(x) if x != {} else 0)\n",
        "    data2['all_genres'] = data2['genres'].apply(lambda x: ' '.join(sorted([i['name'] for i in x])) if x != {} else '')\n",
        "    \n",
        "    for genre in genres_unique:\n",
        "        data2[genre] = data2['all_genres'].apply(lambda x: 1 if genre in x else 0)\n",
        "    \n",
        "    #train = train.drop(['genres', 'all_genres'], axis=1)\n",
        "    return data,data2\n",
        "\n",
        "def is_en(df,df2):\n",
        "    df['is_english'] = 0\n",
        "    df.loc[df['original_language']==\"en\", 'is_english'] = 1\n",
        "    df2['is_english'] = 0\n",
        "    df2.loc[df2['original_language']==\"en\", 'is_english'] = 1\n",
        "    return df,df2\n",
        "\n",
        "def cast_preproccessing(train):\n",
        "    cast_list = []\n",
        "    male = 0\n",
        "    female = 0\n",
        "    Hero_male = 0\n",
        "    Hero_female = 0\n",
        "\n",
        "    for x in train['cast']:\n",
        "        try:\n",
        "            for item in ast.literal_eval(x):\n",
        "                cast_list.append(item['name'])\n",
        "                if item['order'] == 0:\n",
        "                    if item['gender'] == 1:\n",
        "                        Hero_female += 1\n",
        "                    elif item['gender'] == 2:\n",
        "                        Hero_male += 1\n",
        "\n",
        "                if item['gender'] == 1:\n",
        "                    female += 1\n",
        "                elif item['gender'] == 2:\n",
        "                    male += 1\n",
        "        except:\n",
        "            continue\n",
        "    return cast_list,male,female,Hero_male,Hero_female\n",
        "\n",
        "def is_famous(df,df2):\n",
        "    output = cast_preproccessing(df)\n",
        "    c = Counter(output[0])\n",
        "    list_freq = [i[0] for i in c.most_common(50)]\n",
        "    for i in list_freq[:15]:\n",
        "        df[i] = 0\n",
        "    df['is Famous'] = 0\n",
        "    df['numberOfCast'] = 0\n",
        "    df['Male_cast'] = 0\n",
        "    df['Female_cast'] = 0\n",
        "    df['unknown_gender_cast'] = 0\n",
        "    for idx, row in df.iterrows():\n",
        "        try:\n",
        "            df['numberOfCast'][idx] = len(ast.literal_eval(row['cast']))\n",
        "            for item in ast.literal_eval(row['cast']):\n",
        "                if item['name'] in list_freq:\n",
        "                    df['is Famous'][idx]=1\n",
        "                if item['name'] in list_freq[:15]:\n",
        "                    df[item['name']][idx]=1\n",
        "                if item['gender'] == 2:\n",
        "                  df['Male_cast'][idx] +=1\n",
        "                elif item['gender'] == 1:\n",
        "                  df['Female_cast'][idx] +=1\n",
        "                else:\n",
        "                  df['unknown_gender_cast'][idx] += 1 \n",
        "        except:\n",
        "            continue\n",
        "    \n",
        "    df = text_to_dict(df, ['cast'])\n",
        "    list_of_cast_characters = list(df['cast'].apply(lambda x: [i['character'] for i in x] if x != {} else []).values)\n",
        "    top_cast_characters = [m[0] for m in Counter([i for j in list_of_cast_characters for i in j]).most_common(15)]\n",
        "    for g in top_cast_characters:\n",
        "        df['cast_character_' + g] = df['cast'].apply(lambda x: 1 if g in str(x) else 0)\n",
        "\n",
        "    for i in list_freq[:15]:\n",
        "        df2[i] = 0\n",
        "    df2['is Famous'] = 0\n",
        "    df2['numberOfCast'] = 0\n",
        "    df2['Male_cast'] = 0\n",
        "    df2['Female_cast'] = 0\n",
        "    df2['unknown_gender_cast'] = 0\n",
        "    for idx, row in df2.iterrows():\n",
        "        try:\n",
        "            df2['numberOfCast'][idx] = len(ast.literal_eval(row['cast']))\n",
        "            for item in ast.literal_eval(row['cast']):\n",
        "                if item['name'] in list_freq:\n",
        "                    df2['is Famous'][idx]=1\n",
        "                if item['name'] in list_freq[:15]:\n",
        "                    df2[item['name']][idx]=1\n",
        "                if item['gender'] == 2:\n",
        "                  df2['Male_cast'][idx] +=1\n",
        "                elif item['gender'] == 1:\n",
        "                  df2['Female_cast'][idx] +=1\n",
        "                else:\n",
        "                  df2['unknown_gender_cast'][idx] += 1 \n",
        "        except:\n",
        "            continue\n",
        "    \n",
        "    df2 = text_to_dict(df2, ['cast'])\n",
        "    for g in top_cast_characters:\n",
        "        df2['cast_character_' + g] = df2['cast'].apply(lambda x: 1 if g in str(x) else 0)\n",
        "    return df,df2\n",
        "\n",
        "def add_production_companies_features(df,df2):\n",
        "    list_of_companies = list(df['production_companies'].apply(lambda x: [i['name'].replace(' ', '') for i in x] if x != {} else []).values)\n",
        "    top_companies = [list(m) for m in Counter([i for j in list_of_companies for i in j]).most_common(10)]\n",
        "    top_companies = pd.DataFrame(data=top_companies, columns=['Production Company', 'Number of Productions'])\n",
        "    top_production_companies = top_companies['Production Company']\n",
        "    df['num_companies'] = df['production_companies'].apply(lambda x: len(x) if x != {} else 0)\n",
        "    df['all_companies'] = df['production_companies'].apply(lambda x: ' '.join(sorted([i['name'] for i in x])) if x != {} else '')\n",
        "    for company in top_production_companies:\n",
        "        df[ 'is_by_'+company] = df['all_companies'].apply(lambda x: 1 if company in x else 0)\n",
        "      \n",
        "    df2['num_companies'] = df2['production_companies'].apply(lambda x: len(x) if x != {} else 0)\n",
        "    df2['all_companies'] = df2['production_companies'].apply(lambda x: ' '.join(sorted([i['name'] for i in x])) if x != {} else '')\n",
        "    for company in top_production_companies:\n",
        "        df2[ 'is_by_'+company] = df2['all_companies'].apply(lambda x: 1 if company in x else 0)\n",
        "    \n",
        "    return df,df2\n",
        "\n",
        "def add_production_countries_features(df,df2):\n",
        "    list_of_production_countries = list(df['production_countries'].apply(lambda x: [i['name'].replace(' ', '') for i in x] if x != {} else []).values)\n",
        "    top_countries = [list(m) for m in Counter([i for j in list_of_production_countries for i in j]).most_common(10)]\n",
        "    top_countries = pd.DataFrame(data=top_countries, columns=['Production Country', 'Number of Productions'])\n",
        "    top_production_countries = top_countries['Production Country'] \n",
        "    df['num_countries'] = df['production_countries'].apply(lambda x: len(x) if x != {} else 0)\n",
        "    df['all_countries'] = df['production_countries'].apply(lambda x: ' '.join(sorted([i['name'] for i in x])) if x != {} else '')\n",
        "    for company in top_production_countries:\n",
        "        df[ 'is_by_'+company] = df['all_countries'].apply(lambda x: 1 if company in x else 0)\n",
        "      \n",
        "    df2['num_countries'] = df2['production_countries'].apply(lambda x: len(x) if x != {} else 0)\n",
        "    df2['all_countries'] = df2['production_countries'].apply(lambda x: ' '.join(sorted([i['name'] for i in x])) if x != {} else '')\n",
        "    for company in top_production_countries:\n",
        "        df2[ 'is_by_'+company] = df2['all_countries'].apply(lambda x: 1 if company in x else 0)\n",
        "    \n",
        "    return df,df2\n",
        "\n",
        "def add_keywords_features(df,df2):\n",
        "  allKeywords = list(df['Keywords'].apply(lambda x: [i['name'] for i in x] if x != {} else []).values)\n",
        "  df['num_of_Keywords'] = df['Keywords'].apply(lambda x: len(x) if x != {} else 0)\n",
        "  df['allKeywords'] = df['Keywords'].apply(lambda x: ' '.join(sorted([i['name'] for i in x])) if x != {} else '')\n",
        "  top_keywords = [m[0] for m in Counter([i for j in allKeywords for i in j]).most_common(10)]\n",
        "  for g in top_keywords:\n",
        "      df['keyword_' + g] = df['allKeywords'].apply(lambda x: 1 if g in x else 0)\n",
        "\n",
        "  df2['num_of_Keywords'] = df2['Keywords'].apply(lambda x: len(x) if x != {} else 0)\n",
        "  df2['allKeywords'] = df2['Keywords'].apply(lambda x: ' '.join(sorted([i['name'] for i in x])) if x != {} else '')\n",
        "  for g in top_keywords:\n",
        "      df2['keyword_' + g] = df2['allKeywords'].apply(lambda x: 1 if g in x else 0)\n",
        "  return df,df2\n",
        "\n",
        "def add_crew_features(df,df2):\n",
        "  df['numberOfCrew'] = df['crew'].apply(lambda x: len(x) if x != {} else 0)\n",
        "  df['unknown_gender_crew'] = df['crew'].apply(lambda x: sum([1 for i in x if i['gender'] == 0]))\n",
        "  df['Female_crew'] = df['crew'].apply(lambda x: sum([1 for i in x if i['gender'] == 1]))\n",
        "  df['Male_crew'] = df['crew'].apply(lambda x: sum([1 for i in x if i['gender'] == 2]))\n",
        "\n",
        "  list_of_crew_names = df['crew'].apply(lambda x: [i['name'] for i in x] if x != {} else []).values\n",
        "  list_of_crew_jobs = list(df['crew'].apply(lambda x: [i['job'] for i in x] if x != {} else []).values)\n",
        "  list_of_crew_departments = list(df['crew'].apply(lambda x: [i['department'] for i in x] if x != {} else []).values)\n",
        "\n",
        "  top_crew_names = [m[0] for m in Counter([i for j in list_of_crew_names for i in j]).most_common(15)]\n",
        "  for g in top_crew_names:\n",
        "    df['crew_name_' + g] = df['crew'].apply(lambda x: 1 if g in str(x) else 0)\n",
        "  top_crew_jobs = [m[0] for m in Counter([i for j in list_of_crew_jobs for i in j]).most_common(15)]\n",
        "  for j in top_crew_jobs:\n",
        "    df['jobs_' + j] = df['crew'].apply(lambda x: sum([1 for i in x if i['job'] == j]))\n",
        "  top_crew_departments = [m[0] for m in Counter([i for j in list_of_crew_departments for i in j]).most_common(15)]\n",
        "  for j in top_crew_departments:\n",
        "    df['departments_' + j] = df['crew'].apply(lambda x: sum([1 for i in x if i['department'] == j])) \n",
        "\n",
        "  df2['numberOfCrew'] = df2['crew'].apply(lambda x: len(x) if x != {} else 0)\n",
        "  df2['unknown_gender_crew'] = df2['crew'].apply(lambda x: sum([1 for i in x if i['gender'] == 0]))\n",
        "  df2['Female_crew'] = df2['crew'].apply(lambda x: sum([1 for i in x if i['gender'] == 1]))\n",
        "  df2['Male_crew'] = df2['crew'].apply(lambda x: sum([1 for i in x if i['gender'] == 2]))\n",
        "  for g in top_crew_names:\n",
        "    df2['crew_name_' + g] = df2['crew'].apply(lambda x: 1 if g in str(x) else 0)\n",
        "  for j in top_crew_jobs:\n",
        "    df2['jobs_' + j] = df2['crew'].apply(lambda x: sum([1 for i in x if i['job'] == j]))\n",
        "  for j in top_crew_departments:\n",
        "    df2['departments_' + j] = df2['crew'].apply(lambda x: sum([1 for i in x if i['department'] == j])) \n",
        "  return df,df2\n",
        "\n",
        "# creating features based on dates\n",
        "def add_release_date_features(df,df2):\n",
        "    date_parts = [\"year\", \"weekday\", \"month\", 'weekofyear', 'day', 'quarter']\n",
        "    for part in date_parts:\n",
        "        part_col = 'release_date' + \"_\" + part\n",
        "        df[part_col] = getattr(df['release_date'].dt, part).astype(int)\n",
        "        df2[part_col] = getattr(df2['release_date'].dt, part).astype(int)\n",
        "    \n",
        "    return df,df2"
      ],
      "execution_count": 0,
      "outputs": []
    },
    {
      "cell_type": "code",
      "metadata": {
        "id": "z69fpTGl9ZTY",
        "colab_type": "code",
        "colab": {}
      },
      "source": [
        "### helper functions:\n",
        "def text_to_dict(df, dict_columns):\n",
        "    for column in dict_columns:\n",
        "        df[column] = df[column].apply(lambda x: {} if pd.isna(x) else ast.literal_eval(x) )\n",
        "    return df"
      ],
      "execution_count": 0,
      "outputs": []
    },
    {
      "cell_type": "code",
      "metadata": {
        "id": "SIPEMs7f9ZQC",
        "colab_type": "code",
        "outputId": "893219c9-4cf0-410b-8176-a24ee3d0836e",
        "colab": {
          "base_uri": "https://localhost:8080/",
          "height": 55
        }
      },
      "source": [
        "from google.colab import drive\n",
        "drive.mount('/content/drive')\n"
      ],
      "execution_count": 16,
      "outputs": [
        {
          "output_type": "stream",
          "text": [
            "Drive already mounted at /content/drive; to attempt to forcibly remount, call drive.mount(\"/content/drive\", force_remount=True).\n"
          ],
          "name": "stdout"
        }
      ]
    },
    {
      "cell_type": "code",
      "metadata": {
        "id": "xQ5ikG2O9ZNR",
        "colab_type": "code",
        "colab": {}
      },
      "source": [
        "### Load the data\n",
        "train = pd.read_csv('drive/My Drive/train.csv')\n",
        "test = pd.read_csv('drive/My Drive/test.csv')"
      ],
      "execution_count": 0,
      "outputs": []
    },
    {
      "cell_type": "code",
      "metadata": {
        "id": "0xeikSG79ZK9",
        "colab_type": "code",
        "colab": {}
      },
      "source": [
        "columns_to_change = ['belongs_to_collection', 'genres', 'production_companies',\n",
        "                'production_countries', 'spoken_languages', 'Keywords', 'crew']\n",
        "\n",
        "# change the strings into list of dictionaries\n",
        "train = text_to_dict(train, columns_to_change)\n",
        "test = text_to_dict(test, columns_to_change)\n",
        "train['belongs_to_collection'] = train['belongs_to_collection'].apply(lambda x: 1 if x != {} else 0)\n",
        "test['belongs_to_collection'] = test['belongs_to_collection'].apply(lambda x: 1 if x != {} else 0)"
      ],
      "execution_count": 0,
      "outputs": []
    },
    {
      "cell_type": "code",
      "metadata": {
        "id": "aAaCh3-C9ZDv",
        "colab_type": "code",
        "outputId": "428f65d0-3baa-4df9-fe8f-0e77eec9cf35",
        "colab": {
          "base_uri": "https://localhost:8080/",
          "height": 1000
        }
      },
      "source": [
        "#### add all features:\n",
        "train,test = addGenreFeatures(train,test)\n",
        "train = addDateFeatures(train)\n",
        "test = addDateFeatures(test)\n",
        "train,test = add_production_companies_features(train,test)\n",
        "train,test = add_production_countries_features(train,test)\n",
        "train,test = is_en(train,test)\n",
        "train,test = is_famous(train,test)\n",
        "train,test = add_release_date_features(train,test)\n",
        "train,test = add_keywords_features(train,test)\n",
        "train,test = add_crew_features(train,test)"
      ],
      "execution_count": 133,
      "outputs": [
        {
          "output_type": "stream",
          "text": [
            "/usr/local/lib/python3.6/dist-packages/pandas/core/indexing.py:671: SettingWithCopyWarning: \n",
            "A value is trying to be set on a copy of a slice from a DataFrame\n",
            "\n",
            "See the caveats in the documentation: https://pandas.pydata.org/pandas-docs/stable/user_guide/indexing.html#returning-a-view-versus-a-copy\n",
            "  self._setitem_with_indexer(indexer, value)\n",
            "/usr/local/lib/python3.6/dist-packages/ipykernel_launcher.py:115: SettingWithCopyWarning: \n",
            "A value is trying to be set on a copy of a slice from a DataFrame\n",
            "\n",
            "See the caveats in the documentation: https://pandas.pydata.org/pandas-docs/stable/user_guide/indexing.html#returning-a-view-versus-a-copy\n",
            "/usr/local/lib/python3.6/dist-packages/ipykernel_launcher.py:122: SettingWithCopyWarning: \n",
            "A value is trying to be set on a copy of a slice from a DataFrame\n",
            "\n",
            "See the caveats in the documentation: https://pandas.pydata.org/pandas-docs/stable/user_guide/indexing.html#returning-a-view-versus-a-copy\n",
            "/usr/local/lib/python3.6/dist-packages/ipykernel_launcher.py:124: SettingWithCopyWarning: \n",
            "A value is trying to be set on a copy of a slice from a DataFrame\n",
            "\n",
            "See the caveats in the documentation: https://pandas.pydata.org/pandas-docs/stable/user_guide/indexing.html#returning-a-view-versus-a-copy\n",
            "/usr/local/lib/python3.6/dist-packages/ipykernel_launcher.py:126: SettingWithCopyWarning: \n",
            "A value is trying to be set on a copy of a slice from a DataFrame\n",
            "\n",
            "See the caveats in the documentation: https://pandas.pydata.org/pandas-docs/stable/user_guide/indexing.html#returning-a-view-versus-a-copy\n",
            "/usr/local/lib/python3.6/dist-packages/ipykernel_launcher.py:118: SettingWithCopyWarning: \n",
            "A value is trying to be set on a copy of a slice from a DataFrame\n",
            "\n",
            "See the caveats in the documentation: https://pandas.pydata.org/pandas-docs/stable/user_guide/indexing.html#returning-a-view-versus-a-copy\n",
            "/usr/local/lib/python3.6/dist-packages/ipykernel_launcher.py:120: SettingWithCopyWarning: \n",
            "A value is trying to be set on a copy of a slice from a DataFrame\n",
            "\n",
            "See the caveats in the documentation: https://pandas.pydata.org/pandas-docs/stable/user_guide/indexing.html#returning-a-view-versus-a-copy\n",
            "/usr/local/lib/python3.6/dist-packages/ipykernel_launcher.py:145: SettingWithCopyWarning: \n",
            "A value is trying to be set on a copy of a slice from a DataFrame\n",
            "\n",
            "See the caveats in the documentation: https://pandas.pydata.org/pandas-docs/stable/user_guide/indexing.html#returning-a-view-versus-a-copy\n",
            "/usr/local/lib/python3.6/dist-packages/ipykernel_launcher.py:156: SettingWithCopyWarning: \n",
            "A value is trying to be set on a copy of a slice from a DataFrame\n",
            "\n",
            "See the caveats in the documentation: https://pandas.pydata.org/pandas-docs/stable/user_guide/indexing.html#returning-a-view-versus-a-copy\n",
            "/usr/local/lib/python3.6/dist-packages/ipykernel_launcher.py:154: SettingWithCopyWarning: \n",
            "A value is trying to be set on a copy of a slice from a DataFrame\n",
            "\n",
            "See the caveats in the documentation: https://pandas.pydata.org/pandas-docs/stable/user_guide/indexing.html#returning-a-view-versus-a-copy\n",
            "/usr/local/lib/python3.6/dist-packages/ipykernel_launcher.py:152: SettingWithCopyWarning: \n",
            "A value is trying to be set on a copy of a slice from a DataFrame\n",
            "\n",
            "See the caveats in the documentation: https://pandas.pydata.org/pandas-docs/stable/user_guide/indexing.html#returning-a-view-versus-a-copy\n",
            "/usr/local/lib/python3.6/dist-packages/ipykernel_launcher.py:148: SettingWithCopyWarning: \n",
            "A value is trying to be set on a copy of a slice from a DataFrame\n",
            "\n",
            "See the caveats in the documentation: https://pandas.pydata.org/pandas-docs/stable/user_guide/indexing.html#returning-a-view-versus-a-copy\n",
            "/usr/local/lib/python3.6/dist-packages/ipykernel_launcher.py:150: SettingWithCopyWarning: \n",
            "A value is trying to be set on a copy of a slice from a DataFrame\n",
            "\n",
            "See the caveats in the documentation: https://pandas.pydata.org/pandas-docs/stable/user_guide/indexing.html#returning-a-view-versus-a-copy\n"
          ],
          "name": "stderr"
        }
      ]
    },
    {
      "cell_type": "code",
      "metadata": {
        "id": "q2BUCc7y-B8e",
        "colab_type": "code",
        "outputId": "e2623360-9c99-43e9-cb88-578f4bbbc7b4",
        "colab": {
          "base_uri": "https://localhost:8080/",
          "height": 54
        }
      },
      "source": [
        "print(train.shape)\n",
        "print(test.shape)"
      ],
      "execution_count": 47,
      "outputs": [
        {
          "output_type": "stream",
          "text": [
            "(3000, 132)\n",
            "(4398, 116)\n"
          ],
          "name": "stdout"
        }
      ]
    },
    {
      "cell_type": "code",
      "metadata": {
        "id": "dHfsr0kn-B40",
        "colab_type": "code",
        "outputId": "0bcab3f2-5418-4005-f611-adb225db5def",
        "colab": {
          "base_uri": "https://localhost:8080/",
          "height": 310
        }
      },
      "source": [
        "pip install eli5"
      ],
      "execution_count": 8,
      "outputs": [
        {
          "output_type": "stream",
          "text": [
            "Collecting eli5\n",
            "\u001b[?25l  Downloading https://files.pythonhosted.org/packages/97/2f/c85c7d8f8548e460829971785347e14e45fa5c6617da374711dec8cb38cc/eli5-0.10.1-py2.py3-none-any.whl (105kB)\n",
            "\r\u001b[K     |███                             | 10kB 17.7MB/s eta 0:00:01\r\u001b[K     |██████▏                         | 20kB 1.7MB/s eta 0:00:01\r\u001b[K     |█████████▎                      | 30kB 2.2MB/s eta 0:00:01\r\u001b[K     |████████████▍                   | 40kB 2.5MB/s eta 0:00:01\r\u001b[K     |███████████████▌                | 51kB 2.0MB/s eta 0:00:01\r\u001b[K     |██████████████████▋             | 61kB 2.3MB/s eta 0:00:01\r\u001b[K     |█████████████████████▊          | 71kB 2.5MB/s eta 0:00:01\r\u001b[K     |████████████████████████▊       | 81kB 2.7MB/s eta 0:00:01\r\u001b[K     |███████████████████████████▉    | 92kB 2.9MB/s eta 0:00:01\r\u001b[K     |███████████████████████████████ | 102kB 2.8MB/s eta 0:00:01\r\u001b[K     |████████████████████████████████| 112kB 2.8MB/s \n",
            "\u001b[?25hRequirement already satisfied: attrs>16.0.0 in /usr/local/lib/python3.6/dist-packages (from eli5) (19.3.0)\n",
            "Requirement already satisfied: tabulate>=0.7.7 in /usr/local/lib/python3.6/dist-packages (from eli5) (0.8.7)\n",
            "Requirement already satisfied: graphviz in /usr/local/lib/python3.6/dist-packages (from eli5) (0.10.1)\n",
            "Requirement already satisfied: scikit-learn>=0.18 in /usr/local/lib/python3.6/dist-packages (from eli5) (0.22.2.post1)\n",
            "Requirement already satisfied: jinja2 in /usr/local/lib/python3.6/dist-packages (from eli5) (2.11.2)\n",
            "Requirement already satisfied: scipy in /usr/local/lib/python3.6/dist-packages (from eli5) (1.4.1)\n",
            "Requirement already satisfied: six in /usr/local/lib/python3.6/dist-packages (from eli5) (1.12.0)\n",
            "Requirement already satisfied: numpy>=1.9.0 in /usr/local/lib/python3.6/dist-packages (from eli5) (1.18.3)\n",
            "Requirement already satisfied: joblib>=0.11 in /usr/local/lib/python3.6/dist-packages (from scikit-learn>=0.18->eli5) (0.14.1)\n",
            "Requirement already satisfied: MarkupSafe>=0.23 in /usr/local/lib/python3.6/dist-packages (from jinja2->eli5) (1.1.1)\n",
            "Installing collected packages: eli5\n",
            "Successfully installed eli5-0.10.1\n"
          ],
          "name": "stdout"
        }
      ]
    },
    {
      "cell_type": "code",
      "metadata": {
        "id": "9WHdWYWF-B2J",
        "colab_type": "code",
        "colab": {}
      },
      "source": [
        "from sklearn.model_selection import train_test_split, KFold\n",
        "from lightgbm import LGBMRegressor as BoostedRegressor\n",
        "import lightgbm as lgbm\n",
        "import eli5 as ModelDebugger\n"
      ],
      "execution_count": 0,
      "outputs": []
    },
    {
      "cell_type": "code",
      "metadata": {
        "id": "iondpGk69Y7-",
        "colab_type": "code",
        "colab": {}
      },
      "source": [
        "### Model 1: With no extra features and no fixes applied\n",
        "features = train.drop(['id', 'genres', 'homepage', 'imdb_id', 'original_language', 'original_title', 'overview',\\\n",
        "                      'poster_path', 'production_companies', 'production_countries', 'release_date', \\\n",
        "                      'spoken_languages', 'status', 'tagline', 'title', 'Keywords', 'cast', 'crew', \\\n",
        "                      'all_companies', 'allKeywords', 'all_genres','all_countries'], axis=1)\n",
        "features=features.dropna()\n",
        "test_ids = test['id']\n",
        "test_features = test.drop(['id','genres', 'homepage', 'imdb_id', 'original_language', 'original_title', 'overview',\\\n",
        "                      'poster_path', 'production_companies', 'production_countries', 'release_date', \\\n",
        "                      'spoken_languages', 'status', 'tagline', 'title', 'Keywords', 'cast', 'crew', \\\n",
        "                      'all_companies', 'allKeywords', 'all_genres','all_countries'], axis=1)\n",
        "\n",
        "\n"
      ],
      "execution_count": 0,
      "outputs": []
    },
    {
      "cell_type": "code",
      "metadata": {
        "id": "KXMYZRL8TGDG",
        "colab_type": "code",
        "colab": {
          "base_uri": "https://localhost:8080/",
          "height": 35
        },
        "outputId": "073d6110-9900-4150-8ad9-d1931409284b"
      },
      "source": [
        "features.columns.difference(test_features.columns)\n"
      ],
      "execution_count": 137,
      "outputs": [
        {
          "output_type": "execute_result",
          "data": {
            "text/plain": [
              "Index(['revenue'], dtype='object')"
            ]
          },
          "metadata": {
            "tags": []
          },
          "execution_count": 137
        }
      ]
    },
    {
      "cell_type": "code",
      "metadata": {
        "id": "RLiDMTlP-PS8",
        "colab_type": "code",
        "colab": {}
      },
      "source": [
        "X = features.drop([ 'revenue'], axis=1)\n",
        "y = np.log1p(features['revenue'])\n",
        "X_train, X_valid, y_train, y_valid = train_test_split(X, y, test_size=0.1)\n"
      ],
      "execution_count": 0,
      "outputs": []
    },
    {
      "cell_type": "code",
      "metadata": {
        "id": "CdqiK2BgpI5I",
        "colab_type": "code",
        "colab": {}
      },
      "source": [
        "regressor_parameters = {'num_leaves': 10,\n",
        "          'min_data_in_leaf': 20,\n",
        "         'objective': 'regression',\n",
        "         'max_depth': 5,\n",
        "         'learning_rate': 0.01,\n",
        "         \"boosting\": \"gbdt\",\n",
        "         \n",
        "         \"feature_fraction\": 0.9,\n",
        "         \"bagging_freq\": 1,\n",
        "         \"bagging_fraction\": 0.9,\n",
        "         \"bagging_seed\": 11,\n",
        "         \"metric\": 'rmse', \n",
        "         \"lambda_l1\": 0.2,\n",
        "         \"verbosity\": -1} \n",
        "## TODO: tune the lambda_l1 for L1 regularization and the learning rate and the number of estimators in the regressor itself\n"
      ],
      "execution_count": 0,
      "outputs": []
    },
    {
      "cell_type": "code",
      "metadata": {
        "id": "QhLs_twWpQw5",
        "colab_type": "code",
        "colab": {}
      },
      "source": [
        "## model creation\n",
        "model = BoostedRegressor(**regressor_parameters, n_estimators = 20000, nthread = 4, n_jobs = -1)"
      ],
      "execution_count": 0,
      "outputs": []
    },
    {
      "cell_type": "code",
      "metadata": {
        "id": "mDWJBLDPpVld",
        "colab_type": "code",
        "outputId": "2cff63ab-366a-4ffa-d5f1-ad78e95add80",
        "colab": {
          "base_uri": "https://localhost:8080/",
          "height": 254
        }
      },
      "source": [
        "model.fit(X_train, y_train, \n",
        "        eval_set=[(X_train, y_train), (X_valid, y_valid)], eval_metric='rmse',\n",
        "        verbose=1000, early_stopping_rounds=200)\n",
        "\n",
        "#### veeeeeryyyy large RMSE !! features are not good"
      ],
      "execution_count": 141,
      "outputs": [
        {
          "output_type": "stream",
          "text": [
            "Training until validation scores don't improve for 200 rounds.\n",
            "Early stopping, best iteration is:\n",
            "[678]\ttraining's rmse: 1.75007\tvalid_1's rmse: 1.87343\n"
          ],
          "name": "stdout"
        },
        {
          "output_type": "execute_result",
          "data": {
            "text/plain": [
              "LGBMRegressor(bagging_fraction=0.9, bagging_freq=1, bagging_seed=11,\n",
              "              boosting='gbdt', boosting_type='gbdt', class_weight=None,\n",
              "              colsample_bytree=1.0, feature_fraction=0.9,\n",
              "              importance_type='split', lambda_l1=0.2, learning_rate=0.01,\n",
              "              max_depth=5, metric='rmse', min_child_samples=20,\n",
              "              min_child_weight=0.001, min_data_in_leaf=20, min_split_gain=0.0,\n",
              "              n_estimators=20000, n_jobs=-1, nthread=4, num_leaves=10,\n",
              "              objective='regression', random_state=None, reg_alpha=0.0,\n",
              "              reg_lambda=0.0, silent=True, subsample=1.0,\n",
              "              subsample_for_bin=200000, subsample_freq=0, verbosity=-1)"
            ]
          },
          "metadata": {
            "tags": []
          },
          "execution_count": 141
        }
      ]
    },
    {
      "cell_type": "code",
      "metadata": {
        "id": "PGLUAX3D-PNb",
        "colab_type": "code",
        "outputId": "dc6ba704-ecca-4d8e-a8e7-9facb0f9b5de",
        "colab": {
          "base_uri": "https://localhost:8080/",
          "height": 397
        }
      },
      "source": [
        "### debug the model to see features significances\n",
        "ModelDebugger.show_weights(model, feature_filter=lambda x: x != '<BIAS>')"
      ],
      "execution_count": 142,
      "outputs": [
        {
          "output_type": "execute_result",
          "data": {
            "text/html": [
              "\n",
              "    <style>\n",
              "    table.eli5-weights tr:hover {\n",
              "        filter: brightness(85%);\n",
              "    }\n",
              "</style>\n",
              "\n",
              "\n",
              "\n",
              "    \n",
              "\n",
              "    \n",
              "\n",
              "    \n",
              "\n",
              "    \n",
              "\n",
              "    \n",
              "\n",
              "    \n",
              "\n",
              "\n",
              "    \n",
              "\n",
              "    \n",
              "\n",
              "    \n",
              "\n",
              "    \n",
              "\n",
              "    \n",
              "\n",
              "    \n",
              "\n",
              "\n",
              "    \n",
              "\n",
              "    \n",
              "\n",
              "    \n",
              "\n",
              "    \n",
              "\n",
              "    \n",
              "        <table class=\"eli5-weights eli5-feature-importances\" style=\"border-collapse: collapse; border: none; margin-top: 0em; table-layout: auto;\">\n",
              "    <thead>\n",
              "    <tr style=\"border: none;\">\n",
              "        <th style=\"padding: 0 1em 0 0.5em; text-align: right; border: none;\">Weight</th>\n",
              "        <th style=\"padding: 0 0.5em 0 0.5em; text-align: left; border: none;\">Feature</th>\n",
              "    </tr>\n",
              "    </thead>\n",
              "    <tbody>\n",
              "    \n",
              "        <tr style=\"background-color: hsl(120, 100.00%, 80.00%); border: none;\">\n",
              "            <td style=\"padding: 0 1em 0 0.5em; text-align: right; border: none;\">\n",
              "                0.4805\n",
              "                \n",
              "            </td>\n",
              "            <td style=\"padding: 0 0.5em 0 0.5em; text-align: left; border: none;\">\n",
              "                budget\n",
              "            </td>\n",
              "        </tr>\n",
              "    \n",
              "        <tr style=\"background-color: hsl(120, 100.00%, 90.12%); border: none;\">\n",
              "            <td style=\"padding: 0 1em 0 0.5em; text-align: right; border: none;\">\n",
              "                0.1756\n",
              "                \n",
              "            </td>\n",
              "            <td style=\"padding: 0 0.5em 0 0.5em; text-align: left; border: none;\">\n",
              "                popularity\n",
              "            </td>\n",
              "        </tr>\n",
              "    \n",
              "        <tr style=\"background-color: hsl(120, 100.00%, 95.09%); border: none;\">\n",
              "            <td style=\"padding: 0 1em 0 0.5em; text-align: right; border: none;\">\n",
              "                0.0647\n",
              "                \n",
              "            </td>\n",
              "            <td style=\"padding: 0 0.5em 0 0.5em; text-align: left; border: none;\">\n",
              "                release_year\n",
              "            </td>\n",
              "        </tr>\n",
              "    \n",
              "        <tr style=\"background-color: hsl(120, 100.00%, 97.03%); border: none;\">\n",
              "            <td style=\"padding: 0 1em 0 0.5em; text-align: right; border: none;\">\n",
              "                0.0315\n",
              "                \n",
              "            </td>\n",
              "            <td style=\"padding: 0 0.5em 0 0.5em; text-align: left; border: none;\">\n",
              "                Male_crew\n",
              "            </td>\n",
              "        </tr>\n",
              "    \n",
              "        <tr style=\"background-color: hsl(120, 100.00%, 97.47%); border: none;\">\n",
              "            <td style=\"padding: 0 1em 0 0.5em; text-align: right; border: none;\">\n",
              "                0.0251\n",
              "                \n",
              "            </td>\n",
              "            <td style=\"padding: 0 0.5em 0 0.5em; text-align: left; border: none;\">\n",
              "                belongs_to_collection\n",
              "            </td>\n",
              "        </tr>\n",
              "    \n",
              "        <tr style=\"background-color: hsl(120, 100.00%, 97.50%); border: none;\">\n",
              "            <td style=\"padding: 0 1em 0 0.5em; text-align: right; border: none;\">\n",
              "                0.0246\n",
              "                \n",
              "            </td>\n",
              "            <td style=\"padding: 0 0.5em 0 0.5em; text-align: left; border: none;\">\n",
              "                runtime\n",
              "            </td>\n",
              "        </tr>\n",
              "    \n",
              "        <tr style=\"background-color: hsl(120, 100.00%, 98.16%); border: none;\">\n",
              "            <td style=\"padding: 0 1em 0 0.5em; text-align: right; border: none;\">\n",
              "                0.0159\n",
              "                \n",
              "            </td>\n",
              "            <td style=\"padding: 0 0.5em 0 0.5em; text-align: left; border: none;\">\n",
              "                Female_cast\n",
              "            </td>\n",
              "        </tr>\n",
              "    \n",
              "        <tr style=\"background-color: hsl(120, 100.00%, 98.42%); border: none;\">\n",
              "            <td style=\"padding: 0 1em 0 0.5em; text-align: right; border: none;\">\n",
              "                0.0128\n",
              "                \n",
              "            </td>\n",
              "            <td style=\"padding: 0 0.5em 0 0.5em; text-align: left; border: none;\">\n",
              "                release_day\n",
              "            </td>\n",
              "        </tr>\n",
              "    \n",
              "        <tr style=\"background-color: hsl(120, 100.00%, 98.43%); border: none;\">\n",
              "            <td style=\"padding: 0 1em 0 0.5em; text-align: right; border: none;\">\n",
              "                0.0126\n",
              "                \n",
              "            </td>\n",
              "            <td style=\"padding: 0 0.5em 0 0.5em; text-align: left; border: none;\">\n",
              "                Male_cast\n",
              "            </td>\n",
              "        </tr>\n",
              "    \n",
              "        <tr style=\"background-color: hsl(120, 100.00%, 98.52%); border: none;\">\n",
              "            <td style=\"padding: 0 1em 0 0.5em; text-align: right; border: none;\">\n",
              "                0.0117\n",
              "                \n",
              "            </td>\n",
              "            <td style=\"padding: 0 0.5em 0 0.5em; text-align: left; border: none;\">\n",
              "                release_date_weekofyear\n",
              "            </td>\n",
              "        </tr>\n",
              "    \n",
              "        <tr style=\"background-color: hsl(120, 100.00%, 98.53%); border: none;\">\n",
              "            <td style=\"padding: 0 1em 0 0.5em; text-align: right; border: none;\">\n",
              "                0.0115\n",
              "                \n",
              "            </td>\n",
              "            <td style=\"padding: 0 0.5em 0 0.5em; text-align: left; border: none;\">\n",
              "                numberOfCast\n",
              "            </td>\n",
              "        </tr>\n",
              "    \n",
              "        <tr style=\"background-color: hsl(120, 100.00%, 98.55%); border: none;\">\n",
              "            <td style=\"padding: 0 1em 0 0.5em; text-align: right; border: none;\">\n",
              "                0.0113\n",
              "                \n",
              "            </td>\n",
              "            <td style=\"padding: 0 0.5em 0 0.5em; text-align: left; border: none;\">\n",
              "                num_of_Keywords\n",
              "            </td>\n",
              "        </tr>\n",
              "    \n",
              "        <tr style=\"background-color: hsl(120, 100.00%, 98.66%); border: none;\">\n",
              "            <td style=\"padding: 0 1em 0 0.5em; text-align: right; border: none;\">\n",
              "                0.0101\n",
              "                \n",
              "            </td>\n",
              "            <td style=\"padding: 0 0.5em 0 0.5em; text-align: left; border: none;\">\n",
              "                unknown_gender_crew\n",
              "            </td>\n",
              "        </tr>\n",
              "    \n",
              "        <tr style=\"background-color: hsl(120, 100.00%, 98.94%); border: none;\">\n",
              "            <td style=\"padding: 0 1em 0 0.5em; text-align: right; border: none;\">\n",
              "                0.0072\n",
              "                \n",
              "            </td>\n",
              "            <td style=\"padding: 0 0.5em 0 0.5em; text-align: left; border: none;\">\n",
              "                release_day_of_week\n",
              "            </td>\n",
              "        </tr>\n",
              "    \n",
              "        <tr style=\"background-color: hsl(120, 100.00%, 99.12%); border: none;\">\n",
              "            <td style=\"padding: 0 1em 0 0.5em; text-align: right; border: none;\">\n",
              "                0.0056\n",
              "                \n",
              "            </td>\n",
              "            <td style=\"padding: 0 0.5em 0 0.5em; text-align: left; border: none;\">\n",
              "                keyword_independent_film\n",
              "            </td>\n",
              "        </tr>\n",
              "    \n",
              "        <tr style=\"background-color: hsl(120, 100.00%, 99.13%); border: none;\">\n",
              "            <td style=\"padding: 0 1em 0 0.5em; text-align: right; border: none;\">\n",
              "                0.0055\n",
              "                \n",
              "            </td>\n",
              "            <td style=\"padding: 0 0.5em 0 0.5em; text-align: left; border: none;\">\n",
              "                Drama\n",
              "            </td>\n",
              "        </tr>\n",
              "    \n",
              "        <tr style=\"background-color: hsl(120, 100.00%, 99.17%); border: none;\">\n",
              "            <td style=\"padding: 0 1em 0 0.5em; text-align: right; border: none;\">\n",
              "                0.0051\n",
              "                \n",
              "            </td>\n",
              "            <td style=\"padding: 0 0.5em 0 0.5em; text-align: left; border: none;\">\n",
              "                is_english\n",
              "            </td>\n",
              "        </tr>\n",
              "    \n",
              "        <tr style=\"background-color: hsl(120, 100.00%, 99.25%); border: none;\">\n",
              "            <td style=\"padding: 0 1em 0 0.5em; text-align: right; border: none;\">\n",
              "                0.0044\n",
              "                \n",
              "            </td>\n",
              "            <td style=\"padding: 0 0.5em 0 0.5em; text-align: left; border: none;\">\n",
              "                release_date_year\n",
              "            </td>\n",
              "        </tr>\n",
              "    \n",
              "        <tr style=\"background-color: hsl(120, 100.00%, 99.25%); border: none;\">\n",
              "            <td style=\"padding: 0 1em 0 0.5em; text-align: right; border: none;\">\n",
              "                0.0044\n",
              "                \n",
              "            </td>\n",
              "            <td style=\"padding: 0 0.5em 0 0.5em; text-align: left; border: none;\">\n",
              "                numberOfCrew\n",
              "            </td>\n",
              "        </tr>\n",
              "    \n",
              "        <tr style=\"background-color: hsl(120, 100.00%, 99.25%); border: none;\">\n",
              "            <td style=\"padding: 0 1em 0 0.5em; text-align: right; border: none;\">\n",
              "                0.0044\n",
              "                \n",
              "            </td>\n",
              "            <td style=\"padding: 0 0.5em 0 0.5em; text-align: left; border: none;\">\n",
              "                release_month\n",
              "            </td>\n",
              "        </tr>\n",
              "    \n",
              "    \n",
              "        \n",
              "            <tr style=\"background-color: hsl(120, 100.00%, 99.25%); border: none;\">\n",
              "                <td colspan=\"2\" style=\"padding: 0 0.5em 0 0.5em; text-align: center; border: none; white-space: nowrap;\">\n",
              "                    <i>&hellip; 131 more &hellip;</i>\n",
              "                </td>\n",
              "            </tr>\n",
              "        \n",
              "    \n",
              "    </tbody>\n",
              "</table>\n",
              "    \n",
              "\n",
              "    \n",
              "\n",
              "\n",
              "    \n",
              "\n",
              "    \n",
              "\n",
              "    \n",
              "\n",
              "    \n",
              "\n",
              "    \n",
              "\n",
              "    \n",
              "\n",
              "\n",
              "\n"
            ],
            "text/plain": [
              "<IPython.core.display.HTML object>"
            ]
          },
          "metadata": {
            "tags": []
          },
          "execution_count": 142
        }
      ]
    },
    {
      "cell_type": "code",
      "metadata": {
        "id": "ylY1eLPT-PKm",
        "colab_type": "code",
        "colab": {
          "base_uri": "https://localhost:8080/",
          "height": 313
        },
        "outputId": "bdba3bef-7e5a-4a2f-b211-d10ff653ff18"
      },
      "source": [
        "print('Plotting metrics recorded during training...')\n",
        "ax = lgb.plot_metric(booster = model, metric='rmse')\n",
        "plt.show()"
      ],
      "execution_count": 143,
      "outputs": [
        {
          "output_type": "stream",
          "text": [
            "Plotting metrics recorded during training...\n"
          ],
          "name": "stdout"
        },
        {
          "output_type": "display_data",
          "data": {
            "image/png": "[encoded data removed]",
            "text/plain": [
              "<Figure size 432x288 with 1 Axes>"
            ]
          },
          "metadata": {
            "tags": [],
            "needs_background": "light"
          }
        }
      ]
    },
    {
      "cell_type": "code",
      "metadata": {
        "id": "rkhxoB3DUqEY",
        "colab_type": "code",
        "colab": {
          "base_uri": "https://localhost:8080/",
          "height": 313
        },
        "outputId": "23f4601b-70ea-466a-9d5f-da47d3d02e02"
      },
      "source": [
        "lgbm.plot_importance(model,max_num_features=20)"
      ],
      "execution_count": 144,
      "outputs": [
        {
          "output_type": "execute_result",
          "data": {
            "text/plain": [
              "<matplotlib.axes._subplots.AxesSubplot at 0x7fc590e07630>"
            ]
          },
          "metadata": {
            "tags": []
          },
          "execution_count": 144
        },
        {
          "output_type": "display_data",
          "data": {
            "image/png": "[encoded data removed]",
            "text/plain": [
              "<Figure size 432x288 with 1 Axes>"
            ]
          },
          "metadata": {
            "tags": [],
            "needs_background": "light"
          }
        }
      ]
    },
    {
      "cell_type": "code",
      "metadata": {
        "id": "OoBdZmFhYtG9",
        "colab_type": "code",
        "colab": {
          "base_uri": "https://localhost:8080/",
          "height": 35
        },
        "outputId": "786c5e19-eaf8-4e06-9807-b958bb73a0bf"
      },
      "source": [
        "import time\n",
        "start = time.time()\n",
        "y_pred = model.predict(test_features)\n",
        "stop = time.time()\n",
        "print('Time: ', stop - start)"
      ],
      "execution_count": 145,
      "outputs": [
        {
          "output_type": "stream",
          "text": [
            "Time:  0.12802433967590332\n"
          ],
          "name": "stdout"
        }
      ]
    },
    {
      "cell_type": "code",
      "metadata": {
        "id": "-5AZqI3muRNp",
        "colab_type": "code",
        "colab": {}
      },
      "source": [
        ""
      ],
      "execution_count": 0,
      "outputs": []
    },
    {
      "cell_type": "code",
      "metadata": {
        "id": "kLvKxLdzUqAT",
        "colab_type": "code",
        "colab": {}
      },
      "source": [
        "test_predict = pd.DataFrame()\n",
        "test_predict['id'] = test_ids\n",
        "test_predict['revenue'] = np.expm1(y_pred)\n",
        "test_predict.to_csv('submission_final.csv', index=False)"
      ],
      "execution_count": 0,
      "outputs": []
    },
    {
      "cell_type": "code",
      "metadata": {
        "id": "yeAWk1kUUp76",
        "colab_type": "code",
        "colab": {}
      },
      "source": [
        ""
      ],
      "execution_count": 0,
      "outputs": []
    },
    {
      "cell_type": "code",
      "metadata": {
        "id": "uhrvyiHy9Y4E",
        "colab_type": "code",
        "colab": {}
      },
      "source": [
        ""
      ],
      "execution_count": 0,
      "outputs": []
    }
  ]
}