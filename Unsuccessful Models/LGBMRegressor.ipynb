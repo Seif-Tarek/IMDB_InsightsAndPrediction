{
 "cells": [
  {
   "cell_type": "code",
   "execution_count": 0,
   "metadata": {
    "colab": {},
    "colab_type": "code",
    "id": "dRaR62t89DlZ"
   },
   "outputs": [],
   "source": [
    "import numpy as np\n",
    "import pandas as pd\n",
    "import ast\n",
    "from collections import Counter\n",
    "import os\n",
    "import json\n",
    "from pandas.io.json import json_normalize\n",
    "import unicodedata\n",
    "import re\n",
    "from matplotlib import pyplot as plt\n"
   ]
  },
  {
   "cell_type": "code",
   "execution_count": 0,
   "metadata": {
    "colab": {},
    "colab_type": "code",
    "id": "J_A7DSrj9ZYO"
   },
   "outputs": [],
   "source": [
    "def addDateFeatures(data):\n",
    "    \"\"\" Adds extra date features like: day, month, quarter and year \"\"\"\n",
    "    data['release_year'] = pd.to_datetime(data['release_date']).dt.year\n",
    "    data['release_quarter'] = pd.to_datetime(data['release_date']).dt.quarter\n",
    "    data['release_month'] = pd.to_datetime(data['release_date']).dt.month\n",
    "    data['release_day'] = pd.to_datetime(data['release_date']).dt.day\n",
    "\n",
    "    data['release_year'].loc[data['release_year'] > 2019] -= 100 # Fixing release years.\n",
    "\n",
    "    # Filling the columns NaN values (only one NaN value exist in test data) with mode of the data\n",
    "    data['release_year'].fillna(data['release_year'].mode()[0],inplace = True)\n",
    "    data['release_quarter'].fillna(data['release_quarter'].mode()[0],inplace = True)\n",
    "    data['release_month'].fillna(data['release_month'].mode()[0],inplace = True)\n",
    "    data['release_day'].fillna(data['release_day'].mode()[0],inplace = True)\n",
    "\n",
    "    data['release_year'] = data['release_year'].astype(int)\n",
    "    data['release_quarter'] = data['release_quarter'].astype(int)\n",
    "    data['release_month'] = data['release_month'].astype(int)\n",
    "    data['release_day']= data['release_day'].astype(int)\n",
    "\n",
    "    # Reshape the release date column to from this format: 'month-day-year' to this format: 'year-month-day'\n",
    "    data['release_date'] = data['release_month'].astype(str) + '/' + data['release_day'].astype(str) + '/' + data['release_year'].astype(str)\n",
    "    data['release_date'] = pd.to_datetime(data['release_date'], format=\"%m/%d/%Y\")\n",
    "    data['release_day_of_week'] = data['release_date'].dt.dayofweek # The day of the week with Monday = 0, Sunday = 6\n",
    "    return data\n",
    "\n",
    "def addExtraFeatures(data):\n",
    "    \"\"\" Adds extra features \"\"\"\n",
    "    pass\n",
    "\n",
    "def stringToJSON(data):\n",
    "    \"\"\" change strings to JSON format for a pandas coloumn \"\"\"\n",
    "    data.fillna(value = '[{}]',inplace = True) # JSON empty string format\n",
    "    data.loc[data == '[]'] = '[{}]'\n",
    "    return data.apply(lambda entry: re.compile(r'\\\\x([0-9a-fA-F]{2})').sub('',entry.replace(\"None\",'\"ddd\"'))).apply(ast.literal_eval)\n",
    "\n",
    "def addGenreFeatures(data):\n",
    "    \"\"\" Adds extra features \"\"\"\n",
    "    #data['genre'] = stringToJSON(data['genres'])\n",
    "    #train_genres = pd.DataFrame(\n",
    "    #{\n",
    "    #    'id' : data['id'].values.repeat(data['genres'].str.len(), axis = 0),\n",
    "    #    'genre' : np.concatenate(data['genres'].tolist())\n",
    "    #})\n",
    "\n",
    "    #train_genres['genre'] = train_genres['genre'].map(lambda genre: genre.get('name'))\n",
    "    #train_genres = train_genres.set_index('id').genre.str.get_dummies().sum(level = 0)\n",
    "    #data = pd.merge(data, train_genres, on = 'id', how = 'outer')\n",
    "\n",
    "    '''Adds the num_genres and ont hot encoding of genres'''\n",
    "    list_of_genres = list(data['genres'].apply(lambda x: [i['name'] for i in x] if x != {} else []).values)\n",
    "\n",
    "    genres_unique = set(x for l in list_of_genres for x in l)\n",
    "    data['num_genres'] = data['genres'].apply(lambda x: len(x) if x != {} else 0)\n",
    "    data['all_genres'] = data['genres'].apply(lambda x: ' '.join(sorted([i['name'] for i in x])) if x != {} else '')\n",
    "    \n",
    "    for genre in genres_unique:\n",
    "        data[genre] = data['all_genres'].apply(lambda x: 1 if genre in x else 0)\n",
    "    \n",
    "    #train = train.drop(['genres', 'all_genres'], axis=1)\n",
    "    return data\n",
    "\n",
    "def is_en(df):\n",
    "    df['is_english'] = 0\n",
    "    df.loc[train['original_language']==\"en\", 'is_english'] = 1\n",
    "    return df\n",
    "\n",
    "def cast_preproccessing(train):\n",
    "    cast_list = []\n",
    "    male = 0\n",
    "    female = 0\n",
    "    Hero_male = 0\n",
    "    Hero_female = 0\n",
    "\n",
    "    for x in train['cast']:\n",
    "        try:\n",
    "            for item in ast.literal_eval(x):\n",
    "                cast_list.append(item['name'])\n",
    "                if item['order'] == 0:\n",
    "                    if item['gender'] == 1:\n",
    "                        Hero_female += 1\n",
    "                    else:\n",
    "                        Hero_male += 1\n",
    "\n",
    "                if item['gender'] == 1:\n",
    "                    female += 1\n",
    "                else:\n",
    "                    male += 1\n",
    "        except:\n",
    "            continue\n",
    "    return cast_list,male,female,Hero_male,Hero_female\n",
    "\n",
    "def is_famous(df):\n",
    "    output = cast_preproccessing(df)\n",
    "    c = Counter(output[0])\n",
    "    list_freq = [i[0] for i in c.most_common(50)]\n",
    "    for i in list_freq[:15]:\n",
    "        df[i] = 0\n",
    "    df['is Famous'] = 0\n",
    "    df['numberOfCast'] = 0\n",
    "    df['Male_cast'] = 0\n",
    "    df['Female_cast'] = 0\n",
    "    df['unknown_gender_cast'] = 0\n",
    "    for idx, row in df.iterrows():\n",
    "        try:\n",
    "            df['numberOfCast'][idx] = len(ast.literal_eval(row['cast']))\n",
    "            for item in ast.literal_eval(row['cast']):\n",
    "                if item['name'] in list_freq:\n",
    "                    df['is Famous'][idx]=1\n",
    "                if item['name'] in list_freq[:15]:\n",
    "                    df[item['name']][idx]=1\n",
    "                if item['gender'] == 2:\n",
    "                  df['Male_cast'][idx] +=1\n",
    "                elif item['gender'] == 1:\n",
    "                  df['Female_cast'][idx] +=1\n",
    "                else:\n",
    "                  df['unknown_gender_cast'][idx] += 1 \n",
    "        except:\n",
    "            continue\n",
    "    return df\n",
    "\n",
    "def add_production_companies_features(df):\n",
    "    list_of_companies = list(df['production_companies'].apply(lambda x: [i['name'].replace(' ', '') for i in x] if x != {} else []).values)\n",
    "    top_companies = [list(m) for m in Counter([i for j in list_of_companies for i in j]).most_common(10)]\n",
    "    top_companies = pd.DataFrame(data=top_companies, columns=['Production Company', 'Number of Productions'])\n",
    "    top_production_companies = top_companies['Production Company']\n",
    "    df['num_companies'] = df['production_companies'].apply(lambda x: len(x) if x != {} else 0)\n",
    "    df['all_companies'] = df['production_companies'].apply(lambda x: ' '.join(sorted([i['name'] for i in x])) if x != {} else '')\n",
    "    for company in top_production_companies:\n",
    "        df[ 'is_by_'+company] = df['all_companies'].apply(lambda x: 1 if company in x else 0)\n",
    "    \n",
    "    return df\n",
    "\n",
    "def add_production_countries_features(df):\n",
    "    list_of_production_countries = list(df['production_countries'].apply(lambda x: [i['name'].replace(' ', '') for i in x] if x != {} else []).values)\n",
    "    top_countries = [list(m) for m in Counter([i for j in list_of_production_countries for i in j]).most_common(10)]\n",
    "    top_countries = pd.DataFrame(data=top_countries, columns=['Production Country', 'Number of Productions'])\n",
    "    top_production_countries = top_countries['Production Country'] \n",
    "    df['num_countries'] = df['production_countries'].apply(lambda x: len(x) if x != {} else 0)\n",
    "    df['all_countries'] = df['production_countries'].apply(lambda x: ' '.join(sorted([i['name'] for i in x])) if x != {} else '')\n",
    "    for company in top_production_countries:\n",
    "        df[ 'is_by_'+company] = df['all_countries'].apply(lambda x: 1 if company in x else 0)\n",
    "    \n",
    "    return df\n",
    "\n",
    "def add_keywords_features(df):\n",
    "    allKeywords = list(df['Keywords'].apply(lambda x: [i['name'] for i in x] if x != {} else []).values)\n",
    "    df['num_of_Keywords'] = df['Keywords'].apply(lambda x: len(x) if x != {} else 0)\n",
    "    df['allKeywords'] = df['Keywords'].apply(lambda x: ' '.join(sorted([i['name'] for i in x])) if x != {} else '')\n",
    "    top_keywords = [m[0] for m in Counter([i for j in allKeywords for i in j]).most_common(10)]\n",
    "    for key_word in top_keywords:\n",
    "        df['includes_' + key_word] = df['allKeywords'].apply(lambda x: 1 if key_word in x else 0)\n",
    "    return df\n",
    "\n",
    "def add_crew_features(df):\n",
    "    df['numberOfCrew'] = df['crew'].apply(lambda x: len(x) if x != {} else 0)\n",
    "    df['unknown_gender_crew'] = df['crew'].apply(lambda x: sum([1 for i in x if i['gender'] == 0]))\n",
    "    df['Female_crew'] = df['crew'].apply(lambda x: sum([1 for i in x if i['gender'] == 1]))\n",
    "    df['Male_crew'] = df['crew'].apply(lambda x: sum([1 for i in x if i['gender'] == 2]))\n",
    "    return df\n",
    "\n",
    "# creating features based on dates\n",
    "def add_release_date_features(df):\n",
    "    date_parts = [\"year\", \"weekday\", \"month\", 'weekofyear', 'day', 'quarter']\n",
    "    for part in date_parts:\n",
    "        part_col = 'release_date' + \"_\" + part\n",
    "        df[part_col] = getattr(df['release_date'].dt, part).astype(int)\n",
    "    \n",
    "    return df"
   ]
  },
  {
   "cell_type": "code",
   "execution_count": 0,
   "metadata": {
    "colab": {},
    "colab_type": "code",
    "id": "z69fpTGl9ZTY"
   },
   "outputs": [],
   "source": [
    "### helper functions:\n",
    "def text_to_dict(df, dict_columns):\n",
    "    for column in dict_columns:\n",
    "        df[column] = df[column].apply(lambda x: {} if pd.isna(x) else ast.literal_eval(x) )\n",
    "    return df"
   ]
  },
  {
   "cell_type": "code",
   "execution_count": 109,
   "metadata": {
    "colab": {
     "base_uri": "https://localhost:8080/",
     "height": 35
    },
    "colab_type": "code",
    "id": "SIPEMs7f9ZQC",
    "outputId": "122928ab-bbb8-461a-c122-c3f61eecb528"
   },
   "outputs": [
    {
     "name": "stdout",
     "output_type": "stream",
     "text": [
      "Drive already mounted at /content/drive; to attempt to forcibly remount, call drive.mount(\"/content/drive\", force_remount=True).\n"
     ]
    }
   ],
   "source": [
    "from google.colab import drive\n",
    "drive.mount('/content/drive')\n"
   ]
  },
  {
   "cell_type": "code",
   "execution_count": 0,
   "metadata": {
    "colab": {},
    "colab_type": "code",
    "id": "xQ5ikG2O9ZNR"
   },
   "outputs": [],
   "source": [
    "### Load the data\n",
    "train = pd.read_csv('drive/My Drive/train.csv')\n",
    "test = pd.read_csv('drive/My Drive/test.csv')"
   ]
  },
  {
   "cell_type": "code",
   "execution_count": 0,
   "metadata": {
    "colab": {},
    "colab_type": "code",
    "id": "0xeikSG79ZK9"
   },
   "outputs": [],
   "source": [
    "columns_to_change = ['belongs_to_collection', 'genres', 'production_companies',\n",
    "                'production_countries', 'spoken_languages', 'Keywords', 'crew']\n",
    "\n",
    "# change the strings into list of dictionaries\n",
    "train = text_to_dict(train, columns_to_change)\n",
    "test = text_to_dict(test, columns_to_change)\n",
    "train['belongs_to_collection'] = train['belongs_to_collection'].apply(lambda x: 1 if x != {} else 0)"
   ]
  },
  {
   "cell_type": "code",
   "execution_count": 131,
   "metadata": {
    "colab": {
     "base_uri": "https://localhost:8080/",
     "height": 545
    },
    "colab_type": "code",
    "id": "aAaCh3-C9ZDv",
    "outputId": "eafba7de-4359-4038-ed49-6be583538340"
   },
   "outputs": [
    {
     "name": "stderr",
     "output_type": "stream",
     "text": [
      "/usr/local/lib/python3.6/dist-packages/pandas/core/indexing.py:671: SettingWithCopyWarning: \n",
      "A value is trying to be set on a copy of a slice from a DataFrame\n",
      "\n",
      "See the caveats in the documentation: https://pandas.pydata.org/pandas-docs/stable/user_guide/indexing.html#returning-a-view-versus-a-copy\n",
      "  self._setitem_with_indexer(indexer, value)\n",
      "/usr/local/lib/python3.6/dist-packages/ipykernel_launcher.py:106: SettingWithCopyWarning: \n",
      "A value is trying to be set on a copy of a slice from a DataFrame\n",
      "\n",
      "See the caveats in the documentation: https://pandas.pydata.org/pandas-docs/stable/user_guide/indexing.html#returning-a-view-versus-a-copy\n",
      "/usr/local/lib/python3.6/dist-packages/ipykernel_launcher.py:113: SettingWithCopyWarning: \n",
      "A value is trying to be set on a copy of a slice from a DataFrame\n",
      "\n",
      "See the caveats in the documentation: https://pandas.pydata.org/pandas-docs/stable/user_guide/indexing.html#returning-a-view-versus-a-copy\n",
      "/usr/local/lib/python3.6/dist-packages/ipykernel_launcher.py:115: SettingWithCopyWarning: \n",
      "A value is trying to be set on a copy of a slice from a DataFrame\n",
      "\n",
      "See the caveats in the documentation: https://pandas.pydata.org/pandas-docs/stable/user_guide/indexing.html#returning-a-view-versus-a-copy\n",
      "/usr/local/lib/python3.6/dist-packages/ipykernel_launcher.py:117: SettingWithCopyWarning: \n",
      "A value is trying to be set on a copy of a slice from a DataFrame\n",
      "\n",
      "See the caveats in the documentation: https://pandas.pydata.org/pandas-docs/stable/user_guide/indexing.html#returning-a-view-versus-a-copy\n",
      "/usr/local/lib/python3.6/dist-packages/ipykernel_launcher.py:109: SettingWithCopyWarning: \n",
      "A value is trying to be set on a copy of a slice from a DataFrame\n",
      "\n",
      "See the caveats in the documentation: https://pandas.pydata.org/pandas-docs/stable/user_guide/indexing.html#returning-a-view-versus-a-copy\n",
      "/usr/local/lib/python3.6/dist-packages/ipykernel_launcher.py:111: SettingWithCopyWarning: \n",
      "A value is trying to be set on a copy of a slice from a DataFrame\n",
      "\n",
      "See the caveats in the documentation: https://pandas.pydata.org/pandas-docs/stable/user_guide/indexing.html#returning-a-view-versus-a-copy\n"
     ]
    }
   ],
   "source": [
    "#### add all features:\n",
    "train = addGenreFeatures(train)\n",
    "train = addDateFeatures(train)\n",
    "train = add_production_companies_features(train)\n",
    "train = add_production_countries_features(train)\n",
    "train = is_en(train)\n",
    "train = is_famous(train)\n",
    "train = add_release_date_features(train)\n",
    "train = add_keywords_features(train)\n",
    "train = add_crew_features(train)"
   ]
  },
  {
   "cell_type": "code",
   "execution_count": 132,
   "metadata": {
    "colab": {
     "base_uri": "https://localhost:8080/",
     "height": 654
    },
    "colab_type": "code",
    "id": "q2BUCc7y-B8e",
    "outputId": "338766ca-5a00-4cd6-adc3-704c532f7db1"
   },
   "outputs": [
    {
     "data": {
      "text/plain": [
       "array(['id', 'belongs_to_collection', 'budget', 'genres', 'homepage',\n",
       "       'imdb_id', 'original_language', 'original_title', 'overview',\n",
       "       'popularity', 'poster_path', 'production_companies',\n",
       "       'production_countries', 'release_date', 'runtime',\n",
       "       'spoken_languages', 'status', 'tagline', 'title', 'Keywords',\n",
       "       'cast', 'crew', 'revenue', 'num_genres', 'all_genres', 'Foreign',\n",
       "       'Comedy', 'Drama', 'Adventure', 'Music', 'Science Fiction',\n",
       "       'TV Movie', 'Horror', 'Fantasy', 'Family', 'War', 'Western',\n",
       "       'Animation', 'History', 'Mystery', 'Crime', 'Documentary',\n",
       "       'Thriller', 'Action', 'Romance', 'release_year', 'release_quarter',\n",
       "       'release_month', 'release_day', 'release_day_of_week',\n",
       "       'num_companies', 'all_companies', 'is_by_WarnerBros.',\n",
       "       'is_by_UniversalPictures', 'is_by_ParamountPictures',\n",
       "       'is_by_TwentiethCenturyFoxFilmCorporation',\n",
       "       'is_by_ColumbiaPictures', 'is_by_Metro-Goldwyn-Mayer(MGM)',\n",
       "       'is_by_NewLineCinema', 'is_by_TouchstonePictures',\n",
       "       'is_by_WaltDisneyPictures', 'is_by_ColumbiaPicturesCorporation',\n",
       "       'num_countries', 'all_countries', 'is_by_UnitedStatesofAmerica',\n",
       "       'is_by_UnitedKingdom', 'is_by_France', 'is_by_Germany',\n",
       "       'is_by_Canada', 'is_by_India', 'is_by_Italy', 'is_by_Japan',\n",
       "       'is_by_Australia', 'is_by_Russia', 'is_english',\n",
       "       'Samuel L. Jackson', 'Robert De Niro', 'Morgan Freeman',\n",
       "       'J.K. Simmons', 'Bruce Willis', 'Liam Neeson', 'Susan Sarandon',\n",
       "       'Bruce McGill', 'John Turturro', 'Forest Whitaker', 'Willem Dafoe',\n",
       "       'Bill Murray', 'Owen Wilson', 'Nicolas Cage', 'Sylvester Stallone',\n",
       "       'is Famous', 'numberOfCast', 'Male_cast', 'Female_cast',\n",
       "       'unknown_gender_cast', 'release_date_year', 'release_date_weekday',\n",
       "       'release_date_month', 'release_date_weekofyear',\n",
       "       'release_date_day', 'release_date_quarter', 'num_of_Keywords',\n",
       "       'allKeywords', 'keyword_woman director',\n",
       "       'keyword_independent film', 'keyword_duringcreditsstinger',\n",
       "       'keyword_murder', 'keyword_based on novel', 'keyword_violence',\n",
       "       'keyword_sport', 'keyword_biography',\n",
       "       'keyword_aftercreditsstinger', 'keyword_dystopia', 'numberOfCrew',\n",
       "       'unknown_gender_crew', 'Female_crew', 'Male_crew'], dtype=object)"
      ]
     },
     "execution_count": 132,
     "metadata": {
      "tags": []
     },
     "output_type": "execute_result"
    }
   ],
   "source": [
    "train.columns.values"
   ]
  },
  {
   "cell_type": "code",
   "execution_count": 0,
   "metadata": {
    "colab": {
     "base_uri": "https://localhost:8080/",
     "height": 217
    },
    "colab_type": "code",
    "id": "dHfsr0kn-B40",
    "outputId": "1cf983bc-d589-480c-c911-e48d3191ba15"
   },
   "outputs": [
    {
     "name": "stdout",
     "output_type": "stream",
     "text": [
      "Requirement already satisfied: eli5 in /usr/local/lib/python3.6/dist-packages (0.10.1)\n",
      "Requirement already satisfied: graphviz in /usr/local/lib/python3.6/dist-packages (from eli5) (0.10.1)\n",
      "Requirement already satisfied: attrs>16.0.0 in /usr/local/lib/python3.6/dist-packages (from eli5) (19.3.0)\n",
      "Requirement already satisfied: scipy in /usr/local/lib/python3.6/dist-packages (from eli5) (1.4.1)\n",
      "Requirement already satisfied: jinja2 in /usr/local/lib/python3.6/dist-packages (from eli5) (2.11.2)\n",
      "Requirement already satisfied: scikit-learn>=0.18 in /usr/local/lib/python3.6/dist-packages (from eli5) (0.22.2.post1)\n",
      "Requirement already satisfied: tabulate>=0.7.7 in /usr/local/lib/python3.6/dist-packages (from eli5) (0.8.7)\n",
      "Requirement already satisfied: numpy>=1.9.0 in /usr/local/lib/python3.6/dist-packages (from eli5) (1.18.3)\n",
      "Requirement already satisfied: six in /usr/local/lib/python3.6/dist-packages (from eli5) (1.12.0)\n",
      "Requirement already satisfied: MarkupSafe>=0.23 in /usr/local/lib/python3.6/dist-packages (from jinja2->eli5) (1.1.1)\n",
      "Requirement already satisfied: joblib>=0.11 in /usr/local/lib/python3.6/dist-packages (from scikit-learn>=0.18->eli5) (0.14.1)\n"
     ]
    }
   ],
   "source": [
    "pip install eli5"
   ]
  },
  {
   "cell_type": "code",
   "execution_count": 0,
   "metadata": {
    "colab": {},
    "colab_type": "code",
    "id": "9WHdWYWF-B2J"
   },
   "outputs": [],
   "source": [
    "from sklearn.model_selection import train_test_split, KFold\n",
    "from lightgbm import LGBMRegressor as BoostedRegressor\n",
    "import eli5 as ModelDebugger\n"
   ]
  },
  {
   "cell_type": "code",
   "execution_count": 0,
   "metadata": {
    "colab": {},
    "colab_type": "code",
    "id": "iondpGk69Y7-"
   },
   "outputs": [],
   "source": [
    "### Model 1: With no extra features and no fixes applied\n",
    "features = train.drop(['id', 'genres', 'homepage', 'imdb_id', 'original_language', 'original_title', 'overview',\\\n",
    "                      'poster_path', 'production_companies', 'production_countries', 'release_date', \\\n",
    "                      'spoken_languages', 'status', 'tagline', 'title', 'Keywords', 'cast', 'crew', \\\n",
    "                      'all_companies', 'allKeywords', 'all_genres','all_countries'], axis=1)\n"
   ]
  },
  {
   "cell_type": "code",
   "execution_count": 0,
   "metadata": {
    "colab": {},
    "colab_type": "code",
    "id": "RLiDMTlP-PS8"
   },
   "outputs": [],
   "source": [
    "X = features.drop([ 'revenue'], axis=1)\n",
    "y = np.log1p(features['revenue'])\n",
    "X_test = test.drop(['id'], axis=1)\n",
    "X_train, X_valid, y_train, y_valid = train_test_split(X, y, test_size=0.1)\n"
   ]
  },
  {
   "cell_type": "code",
   "execution_count": 0,
   "metadata": {
    "colab": {},
    "colab_type": "code",
    "id": "CdqiK2BgpI5I"
   },
   "outputs": [],
   "source": [
    "regressor_parameters = {'num_leaves': 30,\n",
    "          'min_data_in_leaf': 20,\n",
    "         'objective': 'regression',\n",
    "         'max_depth': 5,\n",
    "         'learning_rate': 0.01,\n",
    "         \"boosting\": \"gbdt\",\n",
    "         \"feature_fraction\": 0.9,\n",
    "         \"bagging_freq\": 1,\n",
    "         \"bagging_fraction\": 0.9,\n",
    "         \"bagging_seed\": 11,\n",
    "         \"metric\": 'rmse', \n",
    "         \"lambda_l1\": 0.2,\n",
    "         \"verbosity\": -1} \n",
    "## TODO: tune the lambda_l1 for L1 regularization and the learning rate and the number of estimators in the regressor itself\n"
   ]
  },
  {
   "cell_type": "code",
   "execution_count": 0,
   "metadata": {
    "colab": {},
    "colab_type": "code",
    "id": "QhLs_twWpQw5"
   },
   "outputs": [],
   "source": [
    "## model creation\n",
    "model_trail_1 = BoostedRegressor(**regressor_parameters, n_estimators = 20000, nthread = 4, n_jobs = -1)"
   ]
  },
  {
   "cell_type": "code",
   "execution_count": 137,
   "metadata": {
    "colab": {
     "base_uri": "https://localhost:8080/",
     "height": 272
    },
    "colab_type": "code",
    "id": "mDWJBLDPpVld",
    "outputId": "70fcc277-4e51-4f1c-8d8e-1e42159ea6b6"
   },
   "outputs": [
    {
     "name": "stdout",
     "output_type": "stream",
     "text": [
      "Training until validation scores don't improve for 200 rounds.\n",
      "[1000]\ttraining's rmse: 1.46098\tvalid_1's rmse: 1.97956\n",
      "Early stopping, best iteration is:\n",
      "[954]\ttraining's rmse: 1.47558\tvalid_1's rmse: 1.97816\n"
     ]
    },
    {
     "data": {
      "text/plain": [
       "LGBMRegressor(bagging_fraction=0.9, bagging_freq=1, bagging_seed=11,\n",
       "              boosting='gbdt', boosting_type='gbdt', class_weight=None,\n",
       "              colsample_bytree=1.0, feature_fraction=0.9,\n",
       "              importance_type='split', lambda_l1=0.2, learning_rate=0.01,\n",
       "              max_depth=5, metric='rmse', min_child_samples=20,\n",
       "              min_child_weight=0.001, min_data_in_leaf=20, min_split_gain=0.0,\n",
       "              n_estimators=20000, n_jobs=-1, nthread=4, num_leaves=30,\n",
       "              objective='regression', random_state=None, reg_alpha=0.0,\n",
       "              reg_lambda=0.0, silent=True, subsample=1.0,\n",
       "              subsample_for_bin=200000, subsample_freq=0, verbosity=-1)"
      ]
     },
     "execution_count": 137,
     "metadata": {
      "tags": []
     },
     "output_type": "execute_result"
    }
   ],
   "source": [
    "model_trail_1.fit(X_train, y_train, \n",
    "        eval_set=[(X_train, y_train), (X_valid, y_valid)], eval_metric='rmse',\n",
    "        verbose=1000, early_stopping_rounds=200)\n",
    "\n",
    "#### veeeeeryyyy large RMSE !! features are not good"
   ]
  },
  {
   "cell_type": "code",
   "execution_count": 138,
   "metadata": {
    "colab": {
     "base_uri": "https://localhost:8080/",
     "height": 397
    },
    "colab_type": "code",
    "id": "PGLUAX3D-PNb",
    "outputId": "4330e7e4-8414-4529-bf33-3d746d3144b2"
   },
   "outputs": [
    {
     "data": {
      "text/html": [
       "\n",
       "    <style>\n",
       "    table.eli5-weights tr:hover {\n",
       "        filter: brightness(85%);\n",
       "    }\n",
       "</style>\n",
       "\n",
       "\n",
       "\n",
       "    \n",
       "\n",
       "    \n",
       "\n",
       "    \n",
       "\n",
       "    \n",
       "\n",
       "    \n",
       "\n",
       "    \n",
       "\n",
       "\n",
       "    \n",
       "\n",
       "    \n",
       "\n",
       "    \n",
       "\n",
       "    \n",
       "\n",
       "    \n",
       "\n",
       "    \n",
       "\n",
       "\n",
       "    \n",
       "\n",
       "    \n",
       "\n",
       "    \n",
       "\n",
       "    \n",
       "\n",
       "    \n",
       "        <table class=\"eli5-weights eli5-feature-importances\" style=\"border-collapse: collapse; border: none; margin-top: 0em; table-layout: auto;\">\n",
       "    <thead>\n",
       "    <tr style=\"border: none;\">\n",
       "        <th style=\"padding: 0 1em 0 0.5em; text-align: right; border: none;\">Weight</th>\n",
       "        <th style=\"padding: 0 0.5em 0 0.5em; text-align: left; border: none;\">Feature</th>\n",
       "    </tr>\n",
       "    </thead>\n",
       "    <tbody>\n",
       "    \n",
       "        <tr style=\"background-color: hsl(120, 100.00%, 80.00%); border: none;\">\n",
       "            <td style=\"padding: 0 1em 0 0.5em; text-align: right; border: none;\">\n",
       "                0.4484\n",
       "                \n",
       "            </td>\n",
       "            <td style=\"padding: 0 0.5em 0 0.5em; text-align: left; border: none;\">\n",
       "                budget\n",
       "            </td>\n",
       "        </tr>\n",
       "    \n",
       "        <tr style=\"background-color: hsl(120, 100.00%, 90.56%); border: none;\">\n",
       "            <td style=\"padding: 0 1em 0 0.5em; text-align: right; border: none;\">\n",
       "                0.1534\n",
       "                \n",
       "            </td>\n",
       "            <td style=\"padding: 0 0.5em 0 0.5em; text-align: left; border: none;\">\n",
       "                popularity\n",
       "            </td>\n",
       "        </tr>\n",
       "    \n",
       "        <tr style=\"background-color: hsl(120, 100.00%, 94.53%); border: none;\">\n",
       "            <td style=\"padding: 0 1em 0 0.5em; text-align: right; border: none;\">\n",
       "                0.0704\n",
       "                \n",
       "            </td>\n",
       "            <td style=\"padding: 0 0.5em 0 0.5em; text-align: left; border: none;\">\n",
       "                release_year\n",
       "            </td>\n",
       "        </tr>\n",
       "    \n",
       "        <tr style=\"background-color: hsl(120, 100.00%, 96.56%); border: none;\">\n",
       "            <td style=\"padding: 0 1em 0 0.5em; text-align: right; border: none;\">\n",
       "                0.0363\n",
       "                \n",
       "            </td>\n",
       "            <td style=\"padding: 0 0.5em 0 0.5em; text-align: left; border: none;\">\n",
       "                runtime\n",
       "            </td>\n",
       "        </tr>\n",
       "    \n",
       "        <tr style=\"background-color: hsl(120, 100.00%, 96.80%); border: none;\">\n",
       "            <td style=\"padding: 0 1em 0 0.5em; text-align: right; border: none;\">\n",
       "                0.0326\n",
       "                \n",
       "            </td>\n",
       "            <td style=\"padding: 0 0.5em 0 0.5em; text-align: left; border: none;\">\n",
       "                Male_crew\n",
       "            </td>\n",
       "        </tr>\n",
       "    \n",
       "        <tr style=\"background-color: hsl(120, 100.00%, 97.71%); border: none;\">\n",
       "            <td style=\"padding: 0 1em 0 0.5em; text-align: right; border: none;\">\n",
       "                0.0203\n",
       "                \n",
       "            </td>\n",
       "            <td style=\"padding: 0 0.5em 0 0.5em; text-align: left; border: none;\">\n",
       "                release_date_weekofyear\n",
       "            </td>\n",
       "        </tr>\n",
       "    \n",
       "        <tr style=\"background-color: hsl(120, 100.00%, 97.78%); border: none;\">\n",
       "            <td style=\"padding: 0 1em 0 0.5em; text-align: right; border: none;\">\n",
       "                0.0194\n",
       "                \n",
       "            </td>\n",
       "            <td style=\"padding: 0 0.5em 0 0.5em; text-align: left; border: none;\">\n",
       "                release_day\n",
       "            </td>\n",
       "        </tr>\n",
       "    \n",
       "        <tr style=\"background-color: hsl(120, 100.00%, 97.96%); border: none;\">\n",
       "            <td style=\"padding: 0 1em 0 0.5em; text-align: right; border: none;\">\n",
       "                0.0173\n",
       "                \n",
       "            </td>\n",
       "            <td style=\"padding: 0 0.5em 0 0.5em; text-align: left; border: none;\">\n",
       "                numberOfCast\n",
       "            </td>\n",
       "        </tr>\n",
       "    \n",
       "        <tr style=\"background-color: hsl(120, 100.00%, 98.04%); border: none;\">\n",
       "            <td style=\"padding: 0 1em 0 0.5em; text-align: right; border: none;\">\n",
       "                0.0162\n",
       "                \n",
       "            </td>\n",
       "            <td style=\"padding: 0 0.5em 0 0.5em; text-align: left; border: none;\">\n",
       "                Male_cast\n",
       "            </td>\n",
       "        </tr>\n",
       "    \n",
       "        <tr style=\"background-color: hsl(120, 100.00%, 98.08%); border: none;\">\n",
       "            <td style=\"padding: 0 1em 0 0.5em; text-align: right; border: none;\">\n",
       "                0.0158\n",
       "                \n",
       "            </td>\n",
       "            <td style=\"padding: 0 0.5em 0 0.5em; text-align: left; border: none;\">\n",
       "                belongs_to_collection\n",
       "            </td>\n",
       "        </tr>\n",
       "    \n",
       "        <tr style=\"background-color: hsl(120, 100.00%, 98.19%); border: none;\">\n",
       "            <td style=\"padding: 0 1em 0 0.5em; text-align: right; border: none;\">\n",
       "                0.0145\n",
       "                \n",
       "            </td>\n",
       "            <td style=\"padding: 0 0.5em 0 0.5em; text-align: left; border: none;\">\n",
       "                Female_cast\n",
       "            </td>\n",
       "        </tr>\n",
       "    \n",
       "        <tr style=\"background-color: hsl(120, 100.00%, 98.20%); border: none;\">\n",
       "            <td style=\"padding: 0 1em 0 0.5em; text-align: right; border: none;\">\n",
       "                0.0144\n",
       "                \n",
       "            </td>\n",
       "            <td style=\"padding: 0 0.5em 0 0.5em; text-align: left; border: none;\">\n",
       "                numberOfCrew\n",
       "            </td>\n",
       "        </tr>\n",
       "    \n",
       "        <tr style=\"background-color: hsl(120, 100.00%, 98.22%); border: none;\">\n",
       "            <td style=\"padding: 0 1em 0 0.5em; text-align: right; border: none;\">\n",
       "                0.0141\n",
       "                \n",
       "            </td>\n",
       "            <td style=\"padding: 0 0.5em 0 0.5em; text-align: left; border: none;\">\n",
       "                num_of_Keywords\n",
       "            </td>\n",
       "        </tr>\n",
       "    \n",
       "        <tr style=\"background-color: hsl(120, 100.00%, 98.40%); border: none;\">\n",
       "            <td style=\"padding: 0 1em 0 0.5em; text-align: right; border: none;\">\n",
       "                0.0121\n",
       "                \n",
       "            </td>\n",
       "            <td style=\"padding: 0 0.5em 0 0.5em; text-align: left; border: none;\">\n",
       "                unknown_gender_cast\n",
       "            </td>\n",
       "        </tr>\n",
       "    \n",
       "        <tr style=\"background-color: hsl(120, 100.00%, 98.45%); border: none;\">\n",
       "            <td style=\"padding: 0 1em 0 0.5em; text-align: right; border: none;\">\n",
       "                0.0116\n",
       "                \n",
       "            </td>\n",
       "            <td style=\"padding: 0 0.5em 0 0.5em; text-align: left; border: none;\">\n",
       "                unknown_gender_crew\n",
       "            </td>\n",
       "        </tr>\n",
       "    \n",
       "        <tr style=\"background-color: hsl(120, 100.00%, 98.49%); border: none;\">\n",
       "            <td style=\"padding: 0 1em 0 0.5em; text-align: right; border: none;\">\n",
       "                0.0112\n",
       "                \n",
       "            </td>\n",
       "            <td style=\"padding: 0 0.5em 0 0.5em; text-align: left; border: none;\">\n",
       "                release_day_of_week\n",
       "            </td>\n",
       "        </tr>\n",
       "    \n",
       "        <tr style=\"background-color: hsl(120, 100.00%, 98.59%); border: none;\">\n",
       "            <td style=\"padding: 0 1em 0 0.5em; text-align: right; border: none;\">\n",
       "                0.0101\n",
       "                \n",
       "            </td>\n",
       "            <td style=\"padding: 0 0.5em 0 0.5em; text-align: left; border: none;\">\n",
       "                release_date_year\n",
       "            </td>\n",
       "        </tr>\n",
       "    \n",
       "        <tr style=\"background-color: hsl(120, 100.00%, 98.90%); border: none;\">\n",
       "            <td style=\"padding: 0 1em 0 0.5em; text-align: right; border: none;\">\n",
       "                0.0071\n",
       "                \n",
       "            </td>\n",
       "            <td style=\"padding: 0 0.5em 0 0.5em; text-align: left; border: none;\">\n",
       "                num_countries\n",
       "            </td>\n",
       "        </tr>\n",
       "    \n",
       "        <tr style=\"background-color: hsl(120, 100.00%, 98.96%); border: none;\">\n",
       "            <td style=\"padding: 0 1em 0 0.5em; text-align: right; border: none;\">\n",
       "                0.0065\n",
       "                \n",
       "            </td>\n",
       "            <td style=\"padding: 0 0.5em 0 0.5em; text-align: left; border: none;\">\n",
       "                release_month\n",
       "            </td>\n",
       "        </tr>\n",
       "    \n",
       "        <tr style=\"background-color: hsl(120, 100.00%, 99.04%); border: none;\">\n",
       "            <td style=\"padding: 0 1em 0 0.5em; text-align: right; border: none;\">\n",
       "                0.0059\n",
       "                \n",
       "            </td>\n",
       "            <td style=\"padding: 0 0.5em 0 0.5em; text-align: left; border: none;\">\n",
       "                num_companies\n",
       "            </td>\n",
       "        </tr>\n",
       "    \n",
       "    \n",
       "        \n",
       "            <tr style=\"background-color: hsl(120, 100.00%, 99.04%); border: none;\">\n",
       "                <td colspan=\"2\" style=\"padding: 0 0.5em 0 0.5em; text-align: center; border: none; white-space: nowrap;\">\n",
       "                    <i>&hellip; 74 more &hellip;</i>\n",
       "                </td>\n",
       "            </tr>\n",
       "        \n",
       "    \n",
       "    </tbody>\n",
       "</table>\n",
       "    \n",
       "\n",
       "    \n",
       "\n",
       "\n",
       "    \n",
       "\n",
       "    \n",
       "\n",
       "    \n",
       "\n",
       "    \n",
       "\n",
       "    \n",
       "\n",
       "    \n",
       "\n",
       "\n",
       "\n"
      ],
      "text/plain": [
       "<IPython.core.display.HTML object>"
      ]
     },
     "execution_count": 138,
     "metadata": {
      "tags": []
     },
     "output_type": "execute_result"
    }
   ],
   "source": [
    "### debug the model to see features significances\n",
    "ModelDebugger.show_weights(model_trail_1, feature_filter=lambda x: x != '<BIAS>')"
   ]
  },
  {
   "cell_type": "code",
   "execution_count": 140,
   "metadata": {
    "colab": {
     "base_uri": "https://localhost:8080/",
     "height": 313
    },
    "colab_type": "code",
    "id": "ylY1eLPT-PKm",
    "outputId": "3a25d13d-76de-42dc-ed06-17b9bddce5eb"
   },
   "outputs": [
    {
     "name": "stdout",
     "output_type": "stream",
     "text": [
      "Plotting metrics recorded during training...\n"
     ]
    },
    {
     "data": {
      "image/png": "[encoded data removed]",
      "text/plain": [
       "<Figure size 432x288 with 1 Axes>"
      ]
     },
     "metadata": {
      "needs_background": "light",
      "tags": []
     },
     "output_type": "display_data"
    }
   ],
   "source": [
    "print('Plotting metrics recorded during training...')\n",
    "ax = lgb.plot_metric(booster = model_trail_1, metric='rmse')\n",
    "plt.show()"
   ]
  },
  {
   "cell_type": "code",
   "execution_count": 0,
   "metadata": {
    "colab": {},
    "colab_type": "code",
    "id": "uhrvyiHy9Y4E"
   },
   "outputs": [],
   "source": []
  }
 ],
 "metadata": {
  "colab": {
   "collapsed_sections": [],
   "name": "BigDataMshFinal.ipynb",
   "provenance": []
  },
  "kernelspec": {
   "display_name": "Python 3",
   "language": "python",
   "name": "python3"
  },
  "language_info": {
   "codemirror_mode": {
    "name": "ipython",
    "version": 3
   },
   "file_extension": ".py",
   "mimetype": "text/x-python",
   "name": "python",
   "nbconvert_exporter": "python",
   "pygments_lexer": "ipython3",
   "version": "3.7.6"
  }
 },
 "nbformat": 4,
 "nbformat_minor": 1
}
